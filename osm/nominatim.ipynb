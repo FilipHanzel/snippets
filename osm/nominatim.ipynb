{
 "cells": [
  {
   "attachments": {},
   "cell_type": "markdown",
   "metadata": {},
   "source": [
    "# Nominatim API example usage"
   ]
  },
  {
   "cell_type": "code",
   "execution_count": 11,
   "metadata": {},
   "outputs": [],
   "source": [
    "from pprint import pprint\n",
    "\n",
    "import requests"
   ]
  },
  {
   "cell_type": "code",
   "execution_count": 12,
   "metadata": {},
   "outputs": [
    {
     "name": "stdout",
     "output_type": "stream",
     "text": [
      "x = -77.048866\n",
      "y = 38.8731678\n",
      "osmid = 358956668\n"
     ]
    }
   ],
   "source": [
    "place = \"Pentagon, Washington DC, United States\"\n",
    "\n",
    "nominatim_search_endpoint = \"https://nominatim.openstreetmap.org/search\"\n",
    "params = {\n",
    "    \"q\": place,\n",
    "    \"format\": \"json\",\n",
    "    \"limit\": 1,\n",
    "    \"dedupe\": 1,  # NOTE: osmnx does not dedup\n",
    "}\n",
    "url = requests.Request(\"GET\", nominatim_search_endpoint, params=params).prepare().url\n",
    "\n",
    "response = requests.get(url).json()\n",
    "\n",
    "x = float(response[0][\"lon\"])\n",
    "y = float(response[0][\"lat\"])\n",
    "osmid = int(response[0][\"osm_id\"])\n",
    "\n",
    "print(f\"{x = }\")\n",
    "print(f\"{y = }\")\n",
    "print(f\"{osmid = }\")"
   ]
  },
  {
   "cell_type": "code",
   "execution_count": 13,
   "metadata": {},
   "outputs": [
    {
     "name": "stdout",
     "output_type": "stream",
     "text": [
      "[{'boundingbox': ['38.8731178', '38.8732178', '-77.048916', '-77.048816'],\n",
      "  'class': 'natural',\n",
      "  'display_name': 'Pentagon Lagoon Yacht Basin, Washington, District of '\n",
      "                  'Columbia, 20310, United States',\n",
      "  'importance': 0.6100099999999999,\n",
      "  'lat': '38.8731678',\n",
      "  'licence': 'Data © OpenStreetMap contributors, ODbL 1.0. '\n",
      "             'https://osm.org/copyright',\n",
      "  'lon': '-77.048866',\n",
      "  'osm_id': 358956668,\n",
      "  'osm_type': 'node',\n",
      "  'place_id': 2454069,\n",
      "  'type': 'bay'}]\n"
     ]
    }
   ],
   "source": [
    "pprint(response)"
   ]
  }
 ],
 "metadata": {
  "kernelspec": {
   "display_name": "venv",
   "language": "python",
   "name": "python3"
  },
  "language_info": {
   "codemirror_mode": {
    "name": "ipython",
    "version": 3
   },
   "file_extension": ".py",
   "mimetype": "text/x-python",
   "name": "python",
   "nbconvert_exporter": "python",
   "pygments_lexer": "ipython3",
   "version": "3.10.10"
  },
  "orig_nbformat": 4
 },
 "nbformat": 4,
 "nbformat_minor": 2
}
