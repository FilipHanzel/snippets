{
 "cells": [
  {
   "attachments": {},
   "cell_type": "markdown",
   "metadata": {},
   "source": [
    "# Fast OSM XML parging to igraph\n",
    "An implementation of XML -> igraph.Graph (directed) parser for OSM files.\\\n",
    "Similar to XML -> networkx.MultiDiGraph parser."
   ]
  },
  {
   "cell_type": "code",
   "execution_count": 18,
   "metadata": {},
   "outputs": [],
   "source": [
    "import xml\n",
    "from dataclasses import dataclass, field\n",
    "from typing import Optional\n",
    "from xml.sax import xmlreader\n",
    "from xml.sax.handler import ContentHandler\n",
    "\n",
    "import igraph as ig\n",
    "\n",
    "TAGS_TO_KEEP = {\n",
    "    \"node\": {\n",
    "        \"ref\",\n",
    "        \"highway\",\n",
    "    },\n",
    "    \"way\": {\n",
    "        \"bridge\",\n",
    "        \"tunnel\",\n",
    "        \"oneway\",\n",
    "        \"lanes\",\n",
    "        \"ref\",\n",
    "        \"name\",\n",
    "        \"highway\",\n",
    "        \"maxspeed\",\n",
    "        \"service\",\n",
    "        \"access\",\n",
    "        \"area\",\n",
    "        \"landuse\",\n",
    "        \"width\",\n",
    "        \"est_width\",\n",
    "        \"junction\",\n",
    "    }\n",
    "}\n",
    "# https://wiki.openstreetmap.org/wiki/Key:oneway\n",
    "ONE_WAY_PATH_OPTIONS = {\"yes\", \"true\", \"1\", \"-1\", \"reverse\"}\n",
    "REVERSED_PATH_OPTIONS = {\"-1\", \"reversed\"}"
   ]
  },
  {
   "cell_type": "code",
   "execution_count": 19,
   "metadata": {},
   "outputs": [],
   "source": [
    "@dataclass(slots=True)\n",
    "class CoreElementBuffer:\n",
    "    \"\"\"Class for storing parsed parameters of XML element (OSM node or way).\"\"\"\n",
    "\n",
    "    type: str  # either \"node\" or \"way\"\n",
    "    osmid: int\n",
    "\n",
    "    # Parameters to add to node or edges, filled while parsing tag elements\n",
    "    attrs: dict[str, str | int | float | bool] = field(default_factory=dict, init=False)\n",
    "\n",
    "    # List of osmids of nodes in a way, filled while parsing nd elements\n",
    "    path: list[int] = field(default_factory=list, init=False)"
   ]
  },
  {
   "cell_type": "code",
   "execution_count": 20,
   "metadata": {},
   "outputs": [],
   "source": [
    "class OSMParser(ContentHandler):\n",
    "    \"\"\"\n",
    "    Handler for parsing xml osm file to igraph.Graph (directed).\n",
    "\n",
    "    Since igraph recalculates is build for static graphs and it recalculates\n",
    "    indexes every time a changes is introduced - handler first reads to buffers\n",
    "    and creates graph after the whole file is parsed.\n",
    "\n",
    "    OSM ids are attributes of nodes in the graph (not actual ids), since igraph\n",
    "    automatically assigns ids to newly created nodes (ints starting from 0),\n",
    "    Separate dict is maintained for quick osmid -> igraph id lookups.\n",
    "    \"\"\"\n",
    "    def __init__(self) -> None:\n",
    "        self.g: Optional[ig.Graph] = None\n",
    "\n",
    "        # Buffer for currently processed core element\n",
    "        self._element: Optional[CoreElementBuffer] = None\n",
    "\n",
    "        # Edges buffer (pairs of osmids)\n",
    "        self._es: Optional[list[tuple[int, int]]] = None\n",
    "        # Edge attributes buffer (same length as edges buffer)\n",
    "        self._es_attrs: Optional[list[dict[str, str | int | float]]] = None\n",
    "        # Vertex attributes buffer (of length equal to amount of vertices in a graph)\n",
    "        self._vs_attrs: Optional[list[dict[str, str | int | float]]] = None\n",
    "\n",
    "        # Map for fast vertex id lookups (osmid -> igraph id)\n",
    "        self.vs_ids: Optional[dict[int, int]] = None\n",
    "\n",
    "    def startDocument(self) -> None:\n",
    "        \"\"\"Init buffers.\"\"\"\n",
    "        self._es = []\n",
    "        self._es_attrs = []\n",
    "        self._vs_attrs = []\n",
    "        self.vs_ids = dict()\n",
    "    \n",
    "    def startElement(self, element_type: str, attrs: xmlreader.AttributesImpl) -> None:\n",
    "        \"\"\"Parse XML elements.\"\"\"\n",
    "\n",
    "        if element_type == \"node\":\n",
    "            osmid = int(attrs[\"id\"])\n",
    "            self._element = CoreElementBuffer(element_type, osmid)\n",
    "\n",
    "            self._element.attrs[\"x\"] = float(attrs[\"lon\"])\n",
    "            self._element.attrs[\"y\"] = float(attrs[\"lat\"])\n",
    "\n",
    "            # Since igraph id is incremental int, we cen use length of the map\n",
    "            self.vs_ids[osmid] = len(self._vs_attrs)\n",
    "        \n",
    "        elif element_type == \"way\":\n",
    "            osmid = int(attrs[\"id\"])\n",
    "            self._element = CoreElementBuffer(element_type, osmid)\n",
    "        \n",
    "        # Do not parse relations\n",
    "        elif element_type == \"relation\":\n",
    "            self._element = None\n",
    "\n",
    "        # Parse tags (ignore tags inside relations)\n",
    "        elif element_type == \"tag\" and self._element is not None:\n",
    "            tag = attrs[\"k\"]\n",
    "            if tag in TAGS_TO_KEEP[self._element.type]:\n",
    "                # TODO: Cast to bool/float/int based on attr type\n",
    "                self._element.attrs[tag] = attrs[\"v\"]\n",
    "\n",
    "        # Parse paths inside way elements\n",
    "        elif element_type == \"nd\":\n",
    "            node_osmid = int(attrs[\"ref\"])\n",
    "            self._element.path.append(node_osmid)\n",
    "\n",
    "    def endElement(self, element_type: str) -> None:\n",
    "        \"\"\"Append core element to buffers.\"\"\"\n",
    "\n",
    "        if element_type == \"node\":\n",
    "            # NOTE: It might be a good idea to pass osmid as name attribute\n",
    "            self._vs_attrs.append(self._element.attrs)\n",
    "        \n",
    "        elif element_type == \"way\":\n",
    "            path = self._element.path\n",
    "            attrs = self._element.attrs\n",
    "\n",
    "            is_one_way = \"oneway\" in attrs and attrs[\"oneway\"] in ONE_WAY_PATH_OPTIONS\n",
    "            is_reversed = \"oneway\" in attrs and attrs[\"oneway\"] in REVERSED_PATH_OPTIONS\n",
    "\n",
    "            # Overwrite OSM oneway value with boolean\n",
    "            attrs[\"oneway\"] = is_one_way\n",
    "\n",
    "            if is_reversed:\n",
    "                path.reverse()\n",
    "            \n",
    "            # Parse edges and append to buffer\n",
    "            n_edges = len(path) - 1\n",
    "            for idx in range(n_edges):\n",
    "                u = path[idx]\n",
    "                v = path[idx + 1]\n",
    "\n",
    "                self._es.append((u, v))\n",
    "                self._es_attrs.append(attrs)\n",
    "\n",
    "                if not is_one_way:\n",
    "                    self._es.append((v, u))\n",
    "                    self._es_attrs.append(attrs)\n",
    "\n",
    "    def endDocument(self) -> None:\n",
    "        \"\"\"Finalize XML parsing and create graph.\"\"\"\n",
    "\n",
    "        self.g = ig.Graph(directed=True)\n",
    "\n",
    "        metadata = {} # TODO: Add graph metadata\n",
    "        for name, value in metadata.items():\n",
    "            self.g[name] = value\n",
    "\n",
    "        # Create graph from buffered data\n",
    "\n",
    "        # Add vertices and attach attributes to them\n",
    "        self.g.add_vertices(len(self._vs_attrs))\n",
    "        for attrs, vertex in zip(self._vs_attrs, self.g.vs):\n",
    "            vertex.update_attributes(attrs)\n",
    "        \n",
    "        self._vs_attrs = None  # drop vertex attributes buffer\n",
    "\n",
    "        # Convert edges vertices from osmids to igraph ids\n",
    "        edges_by_igraph_ids = [\n",
    "            (\n",
    "                self.vs_ids[u_name],\n",
    "                self.vs_ids[v_name],\n",
    "            )\n",
    "            for u_name, v_name in self._es\n",
    "        ]\n",
    "\n",
    "        self._es = None  # drop edges buffer\n",
    "\n",
    "        self.g.add_edges(edges_by_igraph_ids)\n",
    "        for attrs, edge in zip(self._es_attrs, self.g.es):\n",
    "            edge.update_attributes(attrs)\n",
    "        \n",
    "        self._es_attrs = None  # drop edges attributes buffer\n"
   ]
  },
  {
   "attachments": {},
   "cell_type": "markdown",
   "metadata": {},
   "source": [
    "# Test"
   ]
  },
  {
   "cell_type": "code",
   "execution_count": 21,
   "metadata": {},
   "outputs": [],
   "source": [
    "DATA_PATH = \"data/slovakia_borders.osm\""
   ]
  },
  {
   "cell_type": "code",
   "execution_count": 22,
   "metadata": {},
   "outputs": [
    {
     "name": "stdout",
     "output_type": "stream",
     "text": [
      "Number of nodes: 84368\n",
      "Number of edges: 168734\n"
     ]
    }
   ],
   "source": [
    "def parse_to_igraph(file_path: str) -> ig.Graph:\n",
    "    parser = OSMParser()\n",
    "    xml.sax.parse(file_path, parser)\n",
    "    return parser.g, parser.vs_ids\n",
    "\n",
    "g, vs_ids_map = parse_to_igraph(DATA_PATH)\n",
    "print(\"Number of nodes:\", len(g.vs))\n",
    "print(\"Number of edges:\", len(g.es))"
   ]
  },
  {
   "cell_type": "code",
   "execution_count": 23,
   "metadata": {},
   "outputs": [
    {
     "data": {
      "text/plain": [
       "igraph.Vertex(<igraph.Graph object at 0x7f82438acd40>, 84367, {'x': 22.5455842, 'y': 49.092004})"
      ]
     },
     "execution_count": 23,
     "metadata": {},
     "output_type": "execute_result"
    }
   ],
   "source": [
    "node_osmid = 4240267510\n",
    "g.vs[vs_ids_map[node_osmid]]"
   ]
  },
  {
   "cell_type": "code",
   "execution_count": 24,
   "metadata": {},
   "outputs": [
    {
     "name": "stdout",
     "output_type": "stream",
     "text": [
      "715 ms ± 52 ms per loop (mean ± std. dev. of 7 runs, 1 loop each)\n"
     ]
    }
   ],
   "source": [
    "%timeit parse_to_igraph(DATA_PATH)"
   ]
  }
 ],
 "metadata": {
  "kernelspec": {
   "display_name": "venv",
   "language": "python",
   "name": "python3"
  },
  "language_info": {
   "codemirror_mode": {
    "name": "ipython",
    "version": 3
   },
   "file_extension": ".py",
   "mimetype": "text/x-python",
   "name": "python",
   "nbconvert_exporter": "python",
   "pygments_lexer": "ipython3",
   "version": "3.10.10"
  },
  "orig_nbformat": 4
 },
 "nbformat": 4,
 "nbformat_minor": 2
}
