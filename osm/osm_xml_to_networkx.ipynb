{
 "cells": [
  {
   "cell_type": "markdown",
   "metadata": {},
   "source": [
    "# Fast OSM XML parsing\n",
    "Custom implementation of XML -> networkx.MuliDiGraph parser for OSM files. Based on osmnx approach."
   ]
  },
  {
   "cell_type": "code",
   "execution_count": 17,
   "metadata": {},
   "outputs": [],
   "source": [
    "import xml\n",
    "from dataclasses import dataclass, field\n",
    "from typing import Optional\n",
    "from xml.sax import xmlreader\n",
    "from xml.sax.handler import ContentHandler\n",
    "\n",
    "import networkx as nx\n",
    "\n",
    "\n",
    "TAGS_TO_KEEP = {\n",
    "    \"node\": {\n",
    "        \"ref\",\n",
    "        \"highway\",\n",
    "    },\n",
    "    \"way\": {\n",
    "        \"bridge\",\n",
    "        \"tunnel\",\n",
    "        \"oneway\",\n",
    "        \"lanes\",\n",
    "        \"ref\",\n",
    "        \"name\",\n",
    "        \"highway\",\n",
    "        \"maxspeed\",\n",
    "        \"service\",\n",
    "        \"access\",\n",
    "        \"area\",\n",
    "        \"landuse\",\n",
    "        \"width\",\n",
    "        \"est_width\",\n",
    "        \"junction\",\n",
    "    },\n",
    "}\n",
    "# https://wiki.openstreetmap.org/wiki/Key:oneway\n",
    "ONE_WAY_PATH_OPTIONS = {\"yes\", \"true\", \"1\", \"-1\", \"reverse\"}\n",
    "REVERSED_PATH_OPTIONS = {\"-1\", \"reversed\"}"
   ]
  },
  {
   "cell_type": "code",
   "execution_count": 18,
   "metadata": {},
   "outputs": [],
   "source": [
    "@dataclass(slots=True)\n",
    "class CoreElementBuffer:\n",
    "    \"\"\"Class for storing parsed parameters of XML element (osm node or way).\"\"\"\n",
    "\n",
    "    type: str  # either \"node\" or \"way\"\n",
    "    osmid: int\n",
    "\n",
    "    # Parameters to add to node or edges, filled while parsing tag elements\n",
    "    attrs: dict[str, str | int | float | bool] = field(default_factory=dict, init=False)\n",
    "\n",
    "    # List of osmids of nodes in a way, filled while parsing nd elements\n",
    "    path: list[int] = field(default_factory=list, init=False)"
   ]
  },
  {
   "cell_type": "code",
   "execution_count": 19,
   "metadata": {},
   "outputs": [],
   "source": [
    "class OSMParser(ContentHandler):\n",
    "    \"\"\"\n",
    "    Handler for parsing OSM XML file to networkx.MultiDiGraph.\n",
    "    \n",
    "    Relations (and relation members) are ignored while building graph.\n",
    "    OSM ids are ids used in the graph (not node attributes).\n",
    "    \"\"\"\n",
    "\n",
    "    def __init__(self):\n",
    "        self.g: Optional[nx.MultiDiGraph] = None\n",
    "        # Buffer for currently processed core element (node or way)\n",
    "        self._element: Optional[CoreElementBuffer] = None\n",
    "\n",
    "    def startDocument(self) -> None:\n",
    "        \"\"\"Initialize graph.\"\"\"\n",
    "\n",
    "        metadata = {\"crs\": \"epsg:4326\"}  # coordinate system (osmnx default)\n",
    "        self.g = nx.MultiDiGraph(**metadata)\n",
    "\n",
    "    def startElement(self, element_type: str, attrs: xmlreader.AttributesImpl) -> None:\n",
    "        \"\"\"Parse XML elements.\"\"\"\n",
    "\n",
    "        if element_type == \"node\":\n",
    "            osmid = int(attrs[\"id\"])\n",
    "            self._element = CoreElementBuffer(element_type, osmid)\n",
    "\n",
    "            self._element.attrs[\"x\"] = float(attrs[\"lon\"])\n",
    "            self._element.attrs[\"y\"] = float(attrs[\"lat\"])\n",
    "\n",
    "        elif element_type == \"way\":\n",
    "            osmid = int(attrs[\"id\"])\n",
    "            self._element = CoreElementBuffer(element_type, osmid)\n",
    "\n",
    "        # Don't parse relations\n",
    "        elif element_type == \"relation\":\n",
    "            self._element = None\n",
    "\n",
    "        # Parse tags (ignore tags inside relations)\n",
    "        elif element_type == \"tag\" and self._element is not None:\n",
    "            tag = attrs[\"k\"]\n",
    "            if tag in TAGS_TO_KEEP[self._element.type]:\n",
    "                # TODO: Cast to bool/float/int based on attr type\n",
    "                self._element.attrs[tag] = attrs[\"v\"]\n",
    "\n",
    "        # Parse paths inside way elements\n",
    "        elif element_type == \"nd\":\n",
    "            node_osmid = int(attrs[\"ref\"])\n",
    "            self._element.path.append(node_osmid)\n",
    "\n",
    "    def endElement(self, element_type: str) -> None:\n",
    "        \"\"\"Add elements to the graph.\"\"\"\n",
    "\n",
    "        if element_type == \"node\":\n",
    "            self.g.add_node(self._element.osmid, **self._element.attrs)\n",
    "\n",
    "        elif element_type == \"way\":\n",
    "            path = self._element.path\n",
    "            attrs = self._element.attrs\n",
    "\n",
    "            is_one_way = \"oneway\" in attrs and attrs[\"oneway\"] in ONE_WAY_PATH_OPTIONS\n",
    "            is_reversed = \"oneway\" in attrs and attrs[\"oneway\"] in REVERSED_PATH_OPTIONS\n",
    "\n",
    "            attrs[\"oneway\"] = is_one_way\n",
    "\n",
    "            if is_reversed:\n",
    "                path.reverse()\n",
    "\n",
    "            edges = [(path[idx], path[idx + 1]) for idx in range(len(path) - 1)]\n",
    "\n",
    "            self.g.add_edges_from(edges, **attrs)\n",
    "            if not is_one_way:\n",
    "                self.g.add_edges_from([(v, u) for u, v in edges], **attrs)\n",
    "\n",
    "    def endDocument(self) -> None:\n",
    "        self._element = None"
   ]
  },
  {
   "attachments": {},
   "cell_type": "markdown",
   "metadata": {},
   "source": [
    "## Compare custom vs osmnx"
   ]
  },
  {
   "cell_type": "code",
   "execution_count": 20,
   "metadata": {},
   "outputs": [],
   "source": [
    "DATA_PATH = \"data/slovakia_borders.osm\""
   ]
  },
  {
   "cell_type": "code",
   "execution_count": 21,
   "metadata": {},
   "outputs": [
    {
     "name": "stdout",
     "output_type": "stream",
     "text": [
      "Number of nodes: 84368\n",
      "Number of edges: 168734\n"
     ]
    }
   ],
   "source": [
    "def parse_custom(file_path: str) -> nx.MultiDiGraph:\n",
    "    parser = OSMParser()\n",
    "    xml.sax.parse(file_path, parser)\n",
    "    return parser.g\n",
    "\n",
    "\n",
    "g = parse_custom(DATA_PATH)\n",
    "print(\"Number of nodes:\", len(g.nodes))\n",
    "print(\"Number of edges:\", len(g.edges))\n"
   ]
  },
  {
   "cell_type": "code",
   "execution_count": 22,
   "metadata": {},
   "outputs": [
    {
     "name": "stdout",
     "output_type": "stream",
     "text": [
      "Number of nodes: 84368\n",
      "Number of edges: 168734\n"
     ]
    }
   ],
   "source": [
    "import osmnx as ox\n",
    "\n",
    "\n",
    "def parse_ox(file_path: str) -> nx.MultiDiGraph:\n",
    "    return ox.graph_from_xml(file_path, retain_all=True, simplify=False)\n",
    "\n",
    "\n",
    "oxg = parse_ox(DATA_PATH)\n",
    "print(\"Number of nodes:\", len(oxg.nodes))\n",
    "print(\"Number of edges:\", len(oxg.edges))\n"
   ]
  },
  {
   "cell_type": "code",
   "execution_count": 23,
   "metadata": {},
   "outputs": [
    {
     "name": "stdout",
     "output_type": "stream",
     "text": [
      "900 ms ± 53.5 ms per loop (mean ± std. dev. of 7 runs, 1 loop each)\n"
     ]
    }
   ],
   "source": [
    "%%timeit\n",
    "parse_custom(DATA_PATH)"
   ]
  },
  {
   "cell_type": "code",
   "execution_count": 24,
   "metadata": {},
   "outputs": [
    {
     "name": "stdout",
     "output_type": "stream",
     "text": [
      "1.67 s ± 113 ms per loop (mean ± std. dev. of 7 runs, 1 loop each)\n"
     ]
    }
   ],
   "source": [
    "%%timeit\n",
    "parse_ox(DATA_PATH)"
   ]
  }
 ],
 "metadata": {
  "kernelspec": {
   "display_name": "venv",
   "language": "python",
   "name": "python3"
  },
  "language_info": {
   "codemirror_mode": {
    "name": "ipython",
    "version": 3
   },
   "file_extension": ".py",
   "mimetype": "text/x-python",
   "name": "python",
   "nbconvert_exporter": "python",
   "pygments_lexer": "ipython3",
   "version": "3.10.10"
  },
  "orig_nbformat": 4
 },
 "nbformat": 4,
 "nbformat_minor": 2
}
